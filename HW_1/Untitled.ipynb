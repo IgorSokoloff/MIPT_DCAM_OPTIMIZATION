{
 "cells": [
  {
   "cell_type": "code",
   "execution_count": 1,
   "metadata": {
    "collapsed": true
   },
   "outputs": [],
   "source": [
    "import numpy as np\n",
    "import matplotlib.pyplot as plt\n",
    "import scipy.stats as sts\n",
    "import math\n",
    "from matplotlib import patches\n",
    "from sympy import *\n",
    "%matplotlib inline\n",
    "%matplotlib notebook"
   ]
  },
  {
   "cell_type": "code",
   "execution_count": 6,
   "metadata": {},
   "outputs": [
    {
     "ename": "SyntaxError",
     "evalue": "invalid syntax (<ipython-input-6-f42aadad5879>, line 4)",
     "output_type": "error",
     "traceback": [
      "\u001b[0;36m  File \u001b[0;32m\"<ipython-input-6-f42aadad5879>\"\u001b[0;36m, line \u001b[0;32m4\u001b[0m\n\u001b[0;31m    p = plot_implicit(x+y<1& x^2y<1, show=False, line_color='firebrick')\u001b[0m\n\u001b[0m                                ^\u001b[0m\n\u001b[0;31mSyntaxError\u001b[0m\u001b[0;31m:\u001b[0m invalid syntax\n"
     ]
    }
   ],
   "source": [
    "from sympy import plot_implicit, cos, sin, symbols, Eq, And\n",
    "x, y = symbols('$x$ $y$')\n",
    "\n",
    "p1 = plot_implicit(x+y<1 x^2y<1, show=False, line_color='firebrick')\n",
    "\n",
    "p.show()\n",
    "\n",
    "fig = p._backend.fig\n",
    "ax = p._backend.ax\n",
    "    \n",
    "ax.plot(1,1,'o', color='blue')\n",
    "ax.set_aspect('equal','datalim')\n",
    "fig.canvas.draw()    "
   ]
  },
  {
   "cell_type": "code",
   "execution_count": 10,
   "metadata": {},
   "outputs": [
    {
     "data": {
      "text/plain": [
       "2000"
      ]
     },
     "execution_count": 10,
     "metadata": {},
     "output_type": "execute_result"
    }
   ],
   "source": [
    "N = 4\n",
    "l = 100\n",
    "points = []\n",
    "start  = -1000\n",
    "end  = 1000\n",
    "number = 2000\n",
    "\n",
    "b = np.array([7,9,3,1])\n",
    "\n",
    "#np.linspace(start,end, number)\n",
    "for i in range (linspase(start,end, number))\n",
    "    for j in range (linspase(start,end, number))\n",
    "        for k in range (linspase(start,end, number))\n",
    "            for l in range (linspase(start,end, number))\n",
    "                points.append(np.array([i,j,k,l]))"
   ]
  }
 ],
 "metadata": {
  "kernelspec": {
   "display_name": "Python 2",
   "language": "python",
   "name": "python2"
  },
  "language_info": {
   "codemirror_mode": {
    "name": "ipython",
    "version": 2
   },
   "file_extension": ".py",
   "mimetype": "text/x-python",
   "name": "python",
   "nbconvert_exporter": "python",
   "pygments_lexer": "ipython2",
   "version": "2.7.13"
  }
 },
 "nbformat": 4,
 "nbformat_minor": 2
}
