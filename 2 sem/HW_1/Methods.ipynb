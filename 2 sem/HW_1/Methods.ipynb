{
 "cells": [
  {
   "cell_type": "code",
   "execution_count": 6,
   "metadata": {},
   "outputs": [
    {
     "name": "stdout",
     "output_type": "stream",
     "text": [
      "-0.6596235448458714 -1.7965161503099607 0.2806793522441158 -1.9349972516363096 2.375851709568962 1e-07\n"
     ]
    }
   ],
   "source": [
    "import sys\n",
    "\n",
    "#A, B, C - params\n",
    "def f(x):\n",
    "    return A * x**2 + B*x + C\n",
    "\n",
    "#a,b - borders\n",
    "def binary_search(f, a, b, epsilon):\n",
    "    c = (a + b) / 2\n",
    "    f_a = f(a)\n",
    "    f_b = f(b)\n",
    "    f_c = f(c)\n",
    "    f_list = []\n",
    "    while abs(b - a) > epsilon:\n",
    "        y = (a + c) / 2.0\n",
    "        z = (b + c) / 2.0\n",
    "        f_y = f(y)\n",
    "        f_z = f(z)\n",
    "        if f_y <= f_c:\n",
    "            b = c\n",
    "            c = y\n",
    "            f_b = f_c\n",
    "            f_c = f_y\n",
    "        else:\n",
    "            if f_c <= f_z:\n",
    "                a = y\n",
    "                b = z\n",
    "                f_a = f_y\n",
    "                f_b = f_z\n",
    "            else:\n",
    "                a = c\n",
    "                c = z\n",
    "                f_a = f_c\n",
    "                f_c = f_z\n",
    "        f_list.append(f_c)\n",
    "    return f_list\n",
    "\n",
    "A, B, C, x1, x2, eps = map( float, input().split(' '))\n",
    "\n",
    "f_app = binary_search(f, x1, x2, eps)\n"
   ]
  },
  {
   "cell_type": "code",
   "execution_count": 12,
   "metadata": {},
   "outputs": [
    {
     "name": "stdout",
     "output_type": "stream",
     "text": [
      "356.241428753\n"
     ]
    }
   ],
   "source": [
    "import numpy as np\n",
    "\n",
    "#A, B, C - params\n",
    "def f(x):\n",
    "    return A * x**2 + B*x + C\n",
    "\n",
    "#a,b - borders\n",
    "\n",
    "def golden_search(f, a, b, tol=1e-5):\n",
    "    tau = (np.sqrt(5) + 1) / 2.0\n",
    "    y = a + (b - a) / tau**2\n",
    "    z = a + (b - a) / tau\n",
    "    f_y = f(y)\n",
    "    f_z = f(z)\n",
    "    f_list = []\n",
    "    while b - a > tol:\n",
    "        if f_y <= f_z:\n",
    "            b = z\n",
    "            z = y\n",
    "            y = a + (b - a) / tau**2\n",
    "            f_z = f_y\n",
    "            f_y = f(y)\n",
    "        else:\n",
    "            a = y\n",
    "            y = z\n",
    "            z = a + (b - a) / tau\n",
    "            f_y = f_z\n",
    "            f_z = f(z)\n",
    "        f_list.append(f((a + b) / 2.0))\n",
    "    return f_list\n",
    "\n",
    "A, B, C, x1, x2, eps = map( float, input().split(' '))\n",
    "#A, B, C, x1, x2, eps = 1.2986050270005514, -2.0641037352976244, 2.745841060547063, -1.104085030607, 3.068794869526759, 1e-07\n",
    "\n",
    "f_app = golden_search(f, x1, x2, eps)\n",
    "\n",
    "print (len(f_app) * sum(f_app[-5:]))"
   ]
  },
  {
   "cell_type": "code",
   "execution_count": 81,
   "metadata": {},
   "outputs": [
    {
     "name": "stdout",
     "output_type": "stream",
     "text": [
      "-2712.50106222\n"
     ]
    }
   ],
   "source": [
    "import numpy as np\n",
    "import math\n",
    "\n",
    "#transform from 01 to R\n",
    "def rt(y, a ,b):\n",
    "    return a + y*(b-a)\n",
    "\n",
    "#transform from R to 01\n",
    "def t(x, a ,b):\n",
    "    return (x - a)/(b-a)\n",
    "\n",
    "#A, B, C - params\n",
    "def f(y, a, b):\n",
    "    x = rt(y, a, b)\n",
    "    return A * x**2 + B*x + C\n",
    "\n",
    "#a,b - borders\n",
    "\n",
    "\n",
    "def y_new(a, b, F,N,k):\n",
    "    return a + F[N-(k+1)]/F[N]\n",
    "\n",
    "def z_new(a, b, F,N,k):\n",
    "    return a + F[N-(k)]/F[N]\n",
    "\n",
    "#x1,x2 - Real borders\n",
    "def fibonacci (f, x1, x2, N):\n",
    "    tau = (np.sqrt(5) + 1) / 2.0\n",
    "    \n",
    "    F = np.zeros(N + 1)\n",
    "    f_list = []\n",
    "    \n",
    "    for i in range(N + 1):\n",
    "        F[i] = int((tau**(i+1) - (-1/tau)**(i+1))/np.sqrt(5))\n",
    "    a = 0\n",
    "    b = 1\n",
    "    y = y_new(a, b, F, N, 1)\n",
    "    z = z_new(a, b, F, N, 1)\n",
    "    f_a = f(a, x1, x2)\n",
    "    f_b = f(b, x1, x2)\n",
    "    f_y = f(y, x1, x2)\n",
    "    f_z = f(z, x1, x2)\n",
    "    \n",
    "    for i in range(2,N + 1):\n",
    "        if f_y <=f_z:\n",
    "            b = z\n",
    "            z = y\n",
    "            y = y_new(a, b, F, N, i)\n",
    "            f_b = f_z\n",
    "            f_z = f_y\n",
    "            f_y = f(y, x1, x2)\n",
    "        else:\n",
    "            a = y\n",
    "            y = z\n",
    "            z = z_new(a, b, F, N, i)\n",
    "            f_a = f_y\n",
    "            f_y = f_z\n",
    "            f_z = f(z, x1, x2)\n",
    "            \n",
    "        f_list.append(f((a+b)/2.0, x1, x2))\n",
    "    \n",
    "    return f_list\n",
    "            \n",
    "            \n",
    "A, B, C, x1, x2, eps = map( float, input().split(' '))\n",
    "#A, B, C, x1, x2, eps = -0.46057441899142315, -2.9248685150135607, 0.8719120492547692 ,-2.7326688870973874 ,3.0991321014822812, 1e-09\n",
    "#A, B, C, x1, x2, eps = -2.2131644685549476, -0.9099183442588235, -2.0533519602489285 ,-3.099832783700915 ,4.777726497241342, 1e-09\n",
    "tau = (np.sqrt(5) + 1) / 2.0\n",
    "\n",
    "N = math.ceil(np.log((np.sqrt(5)*(x2 - x1))/(2*eps))/np.log(tau)) - 1\n",
    "\n",
    "f_app = fibonacci(f, x1, x2, N)\n",
    "\n",
    "print ((N-3)* sum(f_app[-5:]))"
   ]
  },
  {
   "cell_type": "code",
   "execution_count": null,
   "metadata": {
    "collapsed": true
   },
   "outputs": [],
   "source": []
  }
 ],
 "metadata": {
  "kernelspec": {
   "display_name": "Python 3",
   "language": "python",
   "name": "python3"
  },
  "language_info": {
   "codemirror_mode": {
    "name": "ipython",
    "version": 3
   },
   "file_extension": ".py",
   "mimetype": "text/x-python",
   "name": "python",
   "nbconvert_exporter": "python",
   "pygments_lexer": "ipython3",
   "version": "3.6.3"
  }
 },
 "nbformat": 4,
 "nbformat_minor": 2
}
