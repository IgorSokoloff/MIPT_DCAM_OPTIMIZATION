{
 "cells": [
  {
   "cell_type": "markdown",
   "metadata": {},
   "source": [
    "# Линейное программирование\n",
    "[Источник](http://personal.vu.nl/l.stougie/Courses/ALP/BTonlyCh12345.pdf)"
   ]
  },
  {
   "cell_type": "markdown",
   "metadata": {},
   "source": [
    "## Задача 1. Низкий старт\n",
    "Сформулируйте следующую задачу как задачу линейного программирования (ЛП)\n",
    "$$\n",
    "\\begin{split}\n",
    " \\mathrm{min} \\;\\;\\;4 x_1 + 5\\left|x_2 - 1\\right| &\\\\\n",
    "\\text{s.t. }  2\\left|x_1\\right| +\\left|x_2-3\\right| &\\leq 5\\\\\n",
    "\\end{split} \n",
    "$$"
   ]
  },
  {
   "cell_type": "markdown",
   "metadata": {},
   "source": []
  },
  {
   "cell_type": "markdown",
   "metadata": {},
   "source": [
    "## Задача 2. Fuck the tables\n",
    "Рассмотрите задачу \n",
    "$$\n",
    "\\begin{split}\n",
    " \\mathrm{min} -x_1 - 2x_2 &\\\\\n",
    "\\text{s.t. }  -x_1 +3x_2 &\\leq 3\\\\\n",
    "                  x_1 + x_2 &\\leq 5\\\\\n",
    "                  x_1, x_2 \\geq 0 .\n",
    "\\end{split} \n",
    "$$"
   ]
  },
  {
   "cell_type": "markdown",
   "metadata": {},
   "source": [
    "### 1.\n",
    "Приведите задачу к стандартной (канонической) форме задачи ЛП и найдите начальное решение (которое можно давать решать симплекс методу), в котором $(x_1, x_2) = (0, 0)$."
   ]
  },
  {
   "cell_type": "markdown",
   "metadata": {},
   "source": []
  },
  {
   "cell_type": "markdown",
   "metadata": {},
   "source": [
    "### 2.\n",
    "Решите задачу в канонической форме с помощью любой библиотеки решения ЛП для python симплекс методом. Выводите при этом нашу любимую таблицу решений."
   ]
  },
  {
   "cell_type": "code",
   "execution_count": 2,
   "metadata": {},
   "outputs": [],
   "source": [
    "### your code goes here"
   ]
  },
  {
   "cell_type": "markdown",
   "metadata": {},
   "source": [
    "### 3.\n",
    "Визуализируйте задачу в исходной формулировке и отрисуйте на ней шаги симплекс метода."
   ]
  },
  {
   "cell_type": "code",
   "execution_count": 4,
   "metadata": {},
   "outputs": [],
   "source": [
    "### your code goes here"
   ]
  },
  {
   "cell_type": "markdown",
   "metadata": {},
   "source": [
    "## Задача 3. Дорога в светлое будущее\n",
    "Рассмотрите дорогу из темного прошлого в светлое будущее, разделенную на $n$ участков и освещаемую $m$ лампами. Пусть $j$-ая лампа имеет мощность $p_j$. Освещенность $i$-ого участка дороги определяется как $I_i = \\sum\\limits_{j=1}^m a_{ij}p_j$, где $a_{ij}$ - известные коэффициенты. Мы хотим, чтобы $i$-ый участок дороги имел освещенность $I^*_i$.\n",
    "\n",
    "Наша задача состоит в том, чтобы подобрать мощности ламп $p_j$ так, чтобы освещенности $I_i$ всех участков дороги были близки к желаемым $I_i^*$.\n",
    "\n",
    "Составьте и решите оптимизационную задачу (любым способом) для оптимального освещения дороги в форме задачи ЛП (обратите внимание, что формулировок может быть много - выберите и объясните почему Вам понравилась именно эта).\n",
    "\n",
    "Примечание: $a, I^*$ генерируйте случайно."
   ]
  },
  {
   "cell_type": "markdown",
   "metadata": {},
   "source": []
  },
  {
   "cell_type": "code",
   "execution_count": null,
   "metadata": {},
   "outputs": [],
   "source": []
  },
  {
   "cell_type": "markdown",
   "metadata": {},
   "source": [
    "## Задача 4. Я у мамы бизнесмен\n",
    "Вы - начинающий предприниматель и производите 2 вида продуктов. I тип продукта требует $1/4$ часа на сборку, $1/8$ часа на тестирование, а стоимость материалов для его производства равна $1.2$ биткоина. Продукт II типа требует $1/3$ часа на сборку, $1/3$ часа на тестирование, но стоимость материалов его производства равна $0.9$ биткоинов. При текущем штате сотрудников в день возможны лишь $90$ часов сборки и  $80$ часов тестирования.\n",
    "\n",
    "Стоимость продукта I типа на рынке: $9$ биткоинов, а II типа - $8$.\n",
    "\n",
    "### 1. \n",
    "Сформулируйте задачу ЛП, которая может быть применена здесь для максимизации ежедневной прибыли компании. Найдите сколько оптимально производить продуктов каждого из типов."
   ]
  },
  {
   "cell_type": "markdown",
   "metadata": {},
   "source": []
  },
  {
   "cell_type": "code",
   "execution_count": null,
   "metadata": {},
   "outputs": [],
   "source": []
  },
  {
   "cell_type": "markdown",
   "metadata": {},
   "source": [
    "### 2.\n",
    "Рассмотрите так же две следующие модификации задачи:\n",
    "#### а) \n",
    "В день Вы можете оплачивать до $50$ часов переработки сборщиков за $7$ биткоинов в час\n",
    "#### б)\n",
    "Поставщик материалов готов предоставить Вам скидку $10\\%$, если Вы закажете в день больше, чем на $300$ биткоинов.\n",
    "\n",
    "Могут ли такие модификации быть обернуты в задачу ЛП, если да, то как, если нет, то почему, и как бы Вы решали задачу в таком случае?"
   ]
  },
  {
   "cell_type": "markdown",
   "metadata": {},
   "source": []
  },
  {
   "cell_type": "code",
   "execution_count": null,
   "metadata": {},
   "outputs": [],
   "source": []
  },
  {
   "cell_type": "markdown",
   "metadata": {},
   "source": []
  },
  {
   "cell_type": "code",
   "execution_count": 5,
   "metadata": {},
   "outputs": [
    {
     "data": {
      "text/html": [
       "<link href=\"https://fonts.googleapis.com/css?family=Open+Sans+Condensed:300,700|Open+Sans:400,400i,700&amp;subset=cyrillic\" rel=\"stylesheet\">\n",
       "<link href='http://fonts.googleapis.com/css?family=Source+Code+Pro:300,400' rel='stylesheet' type='text/css'>\n",
       "<style>\n",
       "    @font-face {\n",
       "        font-family: \"Computer Modern\";\n",
       "        src: url('http://mirrors.ctan.org/fonts/cm-unicode/fonts/otf/cmunss.otf');\n",
       "    }\n",
       "    div.cell{\n",
       "        /*width:80%;*/\n",
       "        /*margin-left:auto !important;\n",
       "        margin-right:auto;*/\n",
       "    }\n",
       "    h1 {\n",
       "        font-family: 'Open Sans Condensed', sans-serif;\n",
       "    }\n",
       "    h2 {\n",
       "        font-family: 'Open Sans', serif;\n",
       "    }\n",
       "    h3{\n",
       "\t\tfont-family: 'Open Sans', serif;\n",
       "        margin-top:12px;\n",
       "        margin-bottom: 3px;\n",
       "       }\n",
       "\th4{\n",
       "\t\tfont-family: 'Open Sans', serif;\n",
       "       }\n",
       "    h5 {\n",
       "        font-family: 'Open Sans', sans-serif;\n",
       "    }\n",
       "    div.text_cell_render{\n",
       "        font-family: 'Alegreya Sans',Computer Modern, \"Helvetica Neue\", Arial, Helvetica, Geneva, sans-serif;\n",
       "        line-height: 1.2;\n",
       "        font-size: 120%;\n",
       "        width:99%;\n",
       "        margin-left:auto;\n",
       "        margin-right:auto;\n",
       "    }\n",
       "    .CodeMirror{\n",
       "            font-family: \"Source Code Pro\";\n",
       "\t\t\tfont-size: 90%;\n",
       "    }\n",
       "/*    .prompt{\n",
       "        display: None;\n",
       "    }*/\n",
       "    .text_cell_render h1 {\n",
       "        font-weight: 200;\n",
       "        font-size: 50pt;\n",
       "\t\tline-height: 110%;\n",
       "        color:#CD2305;\n",
       "        margin-bottom: 0.5em;\n",
       "        margin-top: 0.5em;\n",
       "        display: block;\n",
       "    }\n",
       "    .text_cell_render h5 {\n",
       "        font-weight: 300;\n",
       "        font-size: 24pt;\n",
       "        color: #CD2305;\n",
       "        font-style: italic;\n",
       "        margin-bottom: .5em;\n",
       "        margin-top: 0.5em;\n",
       "        display: block;\n",
       "    }\n",
       "\n",
       "    /*div.cell{\n",
       "        width:99%;\n",
       "        margin-left:1%;\n",
       "        margin-right:1%; ! important\n",
       "    }*/\n",
       "\n",
       "    li {\n",
       "        line-height: 110%;\n",
       "    }\n",
       "    .warning{\n",
       "        color: rgb( 240, 20, 20 )\n",
       "        }\n",
       "\n",
       "    .output_png {\n",
       "    display: table-cell;\n",
       "    text-align: center;\n",
       "    vertical-align: middle;\n",
       "\t}\n",
       "\n",
       "</style>\n",
       "\n",
       "<script>\n",
       "    MathJax.Hub.Config({\n",
       "                        TeX: {\n",
       "                           extensions: [\"AMSmath.js\"]\n",
       "                           },\n",
       "                tex2jax: {\n",
       "                    inlineMath: [ ['$','$'], [\"\\\\(\",\"\\\\)\"] ],\n",
       "                    displayMath: [ ['$$','$$'], [\"\\\\[\",\"\\\\]\"] ]\n",
       "                },\n",
       "                displayAlign: 'center', // Change this to 'center' to center equations.\n",
       "                \"HTML-CSS\": {\n",
       "                    styles: {'.MathJax_Display': {\"margin\": 4}}\n",
       "                }\n",
       "        });\n",
       "</script>\n"
      ],
      "text/plain": [
       "<IPython.core.display.HTML object>"
      ]
     },
     "execution_count": 5,
     "metadata": {},
     "output_type": "execute_result"
    }
   ],
   "source": [
    "from IPython.core.display import HTML\n",
    "def css_styling():\n",
    "    styles = open(\"custom.css\", \"r\").read() #or edit path to custom.css\n",
    "    return HTML(styles)\n",
    "css_styling()"
   ]
  }
 ],
 "metadata": {
  "kernelspec": {
   "display_name": "Python 3",
   "language": "python",
   "name": "python3"
  },
  "language_info": {
   "codemirror_mode": {
    "name": "ipython",
    "version": 3
   },
   "file_extension": ".py",
   "mimetype": "text/x-python",
   "name": "python",
   "nbconvert_exporter": "python",
   "pygments_lexer": "ipython3",
   "version": "3.6.4"
  }
 },
 "nbformat": 4,
 "nbformat_minor": 2
}
