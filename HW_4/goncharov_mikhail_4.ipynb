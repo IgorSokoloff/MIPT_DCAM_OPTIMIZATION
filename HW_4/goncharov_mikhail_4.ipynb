{
 "cells": [
  {
   "cell_type": "markdown",
   "metadata": {},
   "source": []
  },
  {
   "cell_type": "markdown",
   "metadata": {},
   "source": []
  },
  {
   "cell_type": "markdown",
   "metadata": {},
   "source": [
    "# Задача 3"
   ]
  },
  {
   "cell_type": "markdown",
   "metadata": {},
   "source": [
    "Пусть $X = X^*$, $X^* = \\{x \\in R^n \\mid (x, x') \\le 1,\\ \\forall x' \\in X\\}$. \n",
    "\n",
    "Сначала докажем, что $X \\subseteq O_1(0)$. Пусть $x \\in X$, значит $x \\in X^*$, значит $(x, x') \\le 1,\\ \\forall x' \\in X$, значит $(x, x) = \\|x\\| \\le 1$, значит $x \\in O_1(0)$. \n",
    "\n",
    "Теперь докажем, что $X \\supseteq O_1(0)$. Пусть $x \\in O_1(0)$. Пусть $x' \\in X \\subseteq O_1(0)$, тогда по теореме Коши-Буняковского $(x, x') \\le \\|x\\|\\|x'\\| \\le 1$, значит $x \\in X^* = X$, ч.т.д. "
   ]
  },
  {
   "cell_type": "markdown",
   "metadata": {},
   "source": [
    "# Задача 4"
   ]
  },
  {
   "cell_type": "markdown",
   "metadata": {},
   "source": [
    "Докажем лемму: пусть A $-$ взаимно однозначное линейное преобразование пространства, $A \\circ X$ $-$ образ множества $X$. Тогда $(A \\circ X)^* = (A^T)^{-1} \\circ X^*$, где $A^T$ $-$ сопряженное преобразование.\n",
    "\n",
    "Доказательство: выберем ортонормированный базис, пусть $A$ $-$ матрица преобразования в нем, тогда $A^T$ $-$ матрица сопряженного преобразования, а $(x, y) = x^Ty$. \n",
    "\n",
    "Сначала докажем, что $(A \\circ X)^* \\subseteq (A^T)^{-1} \\circ X^*$. Пусть $x' \\in (A \\circ X)^*$, то есть \n",
    "$$\n",
    "(x', y) \\ge -1, \\quad \\forall y \\in A \\circ X\n",
    "$$\n",
    "$$\n",
    "(x', Ax) = (A^Tx', x) \\ge -1, \\quad \\forall x \\in X.\n",
    "$$\n",
    "Значит $A^Tx' \\in X^*$, значит $x' \\in (A^T)^{-1} \\circ X^*$. \n",
    "\n",
    "Теперь докажем, что $(A \\circ X)^* \\supseteq (A^T)^{-1} \\circ X^*$. Пусть $x' \\in (A^T)^{-1} \\circ X^*$, значит $A^Tx' \\in X^*$, то есть\n",
    "$$\n",
    "(A^Tx', x) = (x', Ax) \\ge -1, \\quad \\forall x \\in X\n",
    "$$\n",
    "$$\n",
    "(x', y) \\ge -1, \\quad \\forall y \\in A \\circ X.\n",
    "$$\n",
    "Значит $x' \\in (A \\circ X)^*$, ч.т.д.\n",
    "\n",
    "Теперь воспользуемся леммой в нашей задаче. Эллипсоид $S = \\left\\{x \\in R^n \\mid \\sum a_i^2x_i^2 \\le \\varepsilon^2 \\right\\}$ $-$ образ единичного шара при преобразовании, задаваемом матрицей $A$, значит сопряженное к эллипсоиду множество будет образом сопряженного множества к шару при преобразовании $(A^T)^{-1}$\n",
    "\n",
    "$$\n",
    "A =\n",
    "\\begin{pmatrix}\n",
    "\\varepsilon/a_1 & 0 & 0 & \\dots & 0 \\\\\n",
    "0 & \\varepsilon/a_2 & 0 & \\dots & 0 \\\\\n",
    "0 & 0 & \\varepsilon/a_3 & \\dots & 0 \\\\\n",
    "\\vdots & \\vdots & \\vdots & \\ddots & \\vdots \\\\\n",
    "0 & 0 & 0 & \\dots & \\varepsilon/a_n\n",
    "\\end{pmatrix}, \\quad\n",
    "(A^T)^{-1} =\n",
    "\\begin{pmatrix}\n",
    "a_1/\\varepsilon & 0 & 0 & \\dots & 0 \\\\\n",
    "0 & a_2/\\varepsilon & 0 & \\dots & 0 \\\\\n",
    "0 & 0 & a_3/\\varepsilon & \\dots & 0 \\\\\n",
    "\\vdots & \\vdots & \\vdots & \\ddots & \\vdots \\\\\n",
    "0 & 0 & 0 & \\dots & a_n/\\varepsilon\n",
    "\\end{pmatrix}\n",
    "$$\n",
    "\n",
    "Сопряженное множество к единичному шару $-$ это сам единичный шар, поэтому сопряженным к эллипсоиду будет эллипсоид с обратными главными осями."
   ]
  },
  {
   "cell_type": "markdown",
   "metadata": {},
   "source": []
  },
  {
   "cell_type": "code",
   "execution_count": null,
   "metadata": {
    "collapsed": true
   },
   "outputs": [],
   "source": []
  }
 ],
 "metadata": {
  "kernelspec": {
   "display_name": "Python 2",
   "language": "python",
   "name": "python2"
  },
  "language_info": {
   "codemirror_mode": {
    "name": "ipython",
    "version": 2
   },
   "file_extension": ".py",
   "mimetype": "text/x-python",
   "name": "python",
   "nbconvert_exporter": "python",
   "pygments_lexer": "ipython2",
   "version": "2.7.13"
  }
 },
 "nbformat": 4,
 "nbformat_minor": 2
}
