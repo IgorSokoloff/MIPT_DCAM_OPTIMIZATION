{
 "cells": [
  {
   "cell_type": "code",
   "execution_count": 1,
   "metadata": {
    "collapsed": true
   },
   "outputs": [],
   "source": [
    "import numpy as np\n",
    "import matplotlib.pyplot as plt\n",
    "from mpl_toolkits.mplot3d import Axes3D\n",
    "import matplotlib.tri as mtri\n",
    "import scipy as sp\n",
    "from scipy import optimize"
   ]
  },
  {
   "cell_type": "code",
   "execution_count": 78,
   "metadata": {
    "collapsed": false
   },
   "outputs": [],
   "source": [
    "r_1 = np.array([1,1,1])\n",
    "r_2 = np.array([-1,-1,1])\n",
    "r_3 = np.array([-1,1,-1])\n",
    "r_4 = np.array([1,-1,-1])\n",
    "t = np.array([2,2.25, 1.7, 1.5])\n",
    "\n",
    "A = np.vstack((r_1, r_2, r_3, r_4))\n",
    "B = np.ndarray((4,4))\n",
    "B[:,:-1] = A\n",
    "B[:,-1] = t\n",
    "A = B"
   ]
  },
  {
   "cell_type": "code",
   "execution_count": 79,
   "metadata": {
    "collapsed": true
   },
   "outputs": [],
   "source": [
    "def jacf(x, t):\n",
    "    return np.transpose(2 * np.array([x[0] - A[:,0], x[1] - A[:,1], x[2] - A[:,2], - (t - A[:,3]) ]))"
   ]
  },
  {
   "cell_type": "code",
   "execution_count": 83,
   "metadata": {
    "collapsed": true
   },
   "outputs": [],
   "source": [
    "def f(x, t):\n",
    "    B = np.array([x[0] - A[:,0], x[1] - A[:,1], x[2] - A[:,2],  (t - A[:,3]) ])**2\n",
    "    B[-1,:] *=-1\n",
    "    return np.sum(B, axis = 0)"
   ]
  },
  {
   "cell_type": "code",
   "execution_count": 84,
   "metadata": {
    "collapsed": false
   },
   "outputs": [
    {
     "data": {
      "text/plain": [
       "array([-0.00214382, -0.00227732,  0.00085638,  0.00072318])"
      ]
     },
     "execution_count": 84,
     "metadata": {},
     "output_type": "execute_result"
    }
   ],
   "source": [
    "f([0.204,0.0518, -0.469], 0.078333)"
   ]
  },
  {
   "cell_type": "code",
   "execution_count": 97,
   "metadata": {
    "collapsed": false
   },
   "outputs": [
    {
     "data": {
      "image/png": "[encoded data removed]",
      "text/plain": [
       "<matplotlib.figure.Figure at 0x7dcc4e0>"
      ]
     },
     "metadata": {},
     "output_type": "display_data"
    }
   ],
   "source": [
    "x = np.array([0.5, 0.5, 0.5, 0.0], dtype='float64')\n",
    "error = []\n",
    "err = 1\n",
    "while( err > 10e-15):\n",
    "    dx = np.linalg.solve(jacf(x[:-1], x[-1]), f(x[:-1], x[-1]))\n",
    "    x -= dx\n",
    "    err = np.linalg.norm(dx,2)\n",
    "    error.append(np.log(err))  \n",
    "fig = plt.figure()\n",
    "ax = fig.add_subplot(111)\n",
    "ax.set_xlabel('n, iterations')\n",
    "ax.set_ylabel('$\\log(||dx||_2)$')\n",
    "plt.title('Newton''s method')\n",
    "plt.plot(error)\n",
    "plt.show()"
   ]
  }
 ],
 "metadata": {
  "anaconda-cloud": {},
  "kernelspec": {
   "display_name": "Python [default]",
   "language": "python",
   "name": "python2"
  },
  "language_info": {
   "codemirror_mode": {
    "name": "ipython",
    "version": 2
   },
   "file_extension": ".py",
   "mimetype": "text/x-python",
   "name": "python",
   "nbconvert_exporter": "python",
   "pygments_lexer": "ipython2",
   "version": "2.7.12"
  }
 },
 "nbformat": 4,
 "nbformat_minor": 1
}
