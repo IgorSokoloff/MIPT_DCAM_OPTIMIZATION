{
 "cells": [
  {
   "cell_type": "markdown",
   "metadata": {},
   "source": [
    "# Задача №1\n",
    "\n",
    "### Покажите, что множество афинно тогда и только тогда, когда его пересечение с любой прямой аффинно."
   ]
  },
  {
   "cell_type": "markdown",
   "metadata": {},
   "source": [
    "##### Решение:\n",
    "\n",
    "Делаем все по гайду: \n",
    "    \n",
    "1) Пусть множество аффинно. Заметим, что прямая - тоже аффинное множество $\\Rightarrow$ пересечение двух аффинных - аффиное (очевидный факт, повторение доказательства для выпуклых множеств).\n",
    "\n",
    "2) Теперь предположим, что пересечение множества $S$ с любой прямой является аффинным. Тогда возьмем $\\forall x_1, x_2 \\in S$, проведем через эти две точки прямую, которая их содержит. Пересечение данной прямой и $S$ будет аффинным $$\\Rightarrow \\forall \\theta \\in R : \\theta \\cdot x_1 + (1 - \\theta) \\cdot x_2$$\n",
    "Так как точки $x_1, x_2$ выбирались произвольно, то получаем, что множество $S$  является аффинным."
   ]
  },
  {
   "cell_type": "markdown",
   "metadata": {},
   "source": [
    "# Задача №2\n",
    "\n",
    "### Пусть $S_1, ... , S_n$ - произвольные непустые множества в $\\Re^{n}$. Докажите, что \n",
    "\n",
    "* $cone\\left(\\bigcup\\limits_{i = 1}^{k} S_i \\right) = \\sum\\limits_{i = 1}^{k} cone\\left(S_i\\right)$\n",
    "* $conv\\left(\\sum\\limits_{i = 1}^{k} S_i \\right) = \\sum\\limits_{i = 1}^{k} conv\\left(S_i\\right)$"
   ]
  },
  {
   "cell_type": "markdown",
   "metadata": {},
   "source": [
    "###### Решение: \n",
    "\n",
    "##### 1) $cone\\left(\\bigcup\\limits_{i = 1}^{k} S_i \\right) = \\sum\\limits_{i = 1}^{k} cone\\left(S_i\\right)$\n",
    "\n",
    "Покажем, что $cone\\left(\\bigcup\\limits_{i = 1}^{k} S_i \\right) \\subseteq \\sum\\limits_{i = 1}^{k} cone\\left(S_i\\right)$\n",
    "\n",
    "Известно, что коническая оболочка любого множества $S$ совпадает с множеством всех неотрицательных комбинаций элементов данного множества. Отсюда, можно записать $$\\forall x \\in cone\\left(\\bigcup\\limits_{i = 1}^{k} S_i \\right): x = \\sum \\limits_{i = 1}^{k}\\sum\\limits_{m = 1}^{N_i} \\lambda_{i m} x_{im},\\lambda_{im} \\ge 0, \\forall i,m \\in N$$\n",
    "\n",
    "где $x_{im} \\in S_i, \\forall m \\in N$,\n",
    "что говорит о том, что любой элемент из данного множества можно предстваить в виде неотрицательной комбинации. Заметим, что внутренняя сумма в уравнении выше $$\\sum\\limits_{m = 1}^{N_i} \\lambda_{i m} x_{im} \\in conv\\left(S_i\\right)$$ \n",
    "\n",
    "Из этого утверждения сразу получаем, что $\\forall x \\in \\sum\\limits_{i = 1}^{k} cone\\left(S_i\\right) \\Rightarrow cone\\left(\\bigcup\\limits_{i = 1}^{k} S_i \\right) \\subseteq \\sum\\limits_{i = 1}^{k} cone\\left(S_i\\right)$\n",
    "\n",
    "Покажем, что $\\sum\\limits_{i = 1}^{k} cone\\left(S_i\\right) \\subseteq cone\\left(\\bigcup\\limits_{i = 1}^{k} S_i \\right)$\n",
    "\n",
    "Рассуждения аналогичны предыдущему пункту. \n",
    "$$\\forall x \\in \\sum\\limits_{i = 1}^{k} cone\\left(S_i\\right): x = \\sum\\limits_{i = 1}^{k} x_{i}\\text{, where } x_{i} \\in conv\\left(S_i\\right)$$\n",
    "Как было отмеченно ранее, коническая оболочка является множеством всех неотрицательных комбинации из элементов множества $\\Rightarrow x_i = \\sum \\limits_{m = 1}^{N_i} \\lambda_{im} x_{im} \\text{, where } x_{im} \\in conv\\left(S_i\\right)$. Подствляя такое представление в уравнение выше получаем, что $x$ является неотрицательной комбинацией элементов из $\\bigcup\\limits_{i = 1}^{k} S_i \\Rightarrow \\forall x \\in cone\\left(\\bigcup\\limits_{i = 1}^{k} S_i \\right)\\Rightarrow \\sum\\limits_{i = 1}^{k} cone\\left(S_i\\right) \\subseteq  cone\\left(\\bigcup\\limits_{i = 1}^{k} S_i \\right)$\n",
    "\n",
    "Из двух включений получаем, что $\\sum\\limits_{i = 1}^{k} cone\\left(S_i\\right) = cone\\left(\\bigcup\\limits_{i = 1}^{k} S_i \\right)$\n",
    "\n",
    "###### 2) $conv\\left(\\sum\\limits_{i = 1}^{k} S_i \\right) = \\sum\\limits_{i = 1}^{k} conv\\left(S_i\\right)$\n",
    "\n",
    "Покажем, что $conv\\left(\\sum\\limits_{i = 1}^{k} S_i \\right) \\subseteq \\sum\\limits_{i = 1}^{k} conv\\left(S_i\\right)$\n",
    "\n",
    "Просто из определения множества $conv\\left(\\sum\\limits_{i = 1}^{k} S_i \\right)$ следует: \n",
    "\n",
    "$$\\forall x \\in conv\\left(\\sum\\limits_{i = 1}^{k} S_i \\right): x = \\sum \\limits_{i = 1}^{m} \\lambda_{i} x_{i} \\text{, where } x_{i} \\in conv\\left(\\sum\\limits_{i = 1}^{k} S_i \\right) \\text{ and } \\sum \\limits_{i = 1}^{m} \\lambda_{i} = 1,  \\lambda_{i} \\ge 0,  i = \\overline{1,m}$$\n",
    "\n",
    "$$x_{i} = \\sum \\limits_{j = 1}^{k} x_{ij} \\text{, where } x_{ij} \\in S_j \\Rightarrow x = \\sum \\limits_{i = 1}^{m} \\lambda_{i} x_{i} = \\sum \\limits_{i = 1}^{m} \\lambda_{i} \\sum \\limits_{j = 1}^{k} x_{ij} = \\sum \\limits_{i = 1}^{m} \\sum \\limits_{j = 1}^{k} \\lambda_{i} x_{ij}$$\n",
    "\n",
    "$$\\sum \\limits_{j = 1}^{k} \\lambda_{i} x_{ij} \\in conv(S_i) \\text{, because} \\sum \\limits_{i = 1}^{m} \\lambda_{i} = 1$$\n",
    "\n",
    "Отсюда и получаем, что $x \\in \\sum\\limits_{i = 1}^{k} conv\\left(S_i\\right) \\Rightarrow conv\\left(\\sum\\limits_{i = 1}^{k} S_i \\right) \\subseteq \\sum\\limits_{i = 1}^{k} conv\\left(S_i\\right)$\n",
    "\n",
    "Покажем, что $\\sum\\limits_{i = 1}^{k} conv\\left(S_i\\right) \\subseteq conv\\left(\\sum\\limits_{i = 1}^{k} S_i \\right)$\n",
    "\n",
    "Докажем это утверждение по индукции: \n",
    "\n",
    "$$conv(A) + conv(B) \\subseteq conv(A + B)$$\n",
    "\n",
    "$$v + w \\in conv(A) + conv(B) \\text{, where } v = \\sum\\limits_{i=1}^{r} \\alpha_{i} v_i, w = \\sum\\limits_{j=1}^{s} \\beta_{i} w_j$$\n",
    "\n",
    "Заметим, что $\\forall i: $\n",
    "\n",
    "$$v + w_{i} = \\sum\\limits_{i=1}^{r} \\alpha_{i}(v_i + w_j)$$\n",
    "\n",
    "$$v + w = \\sum\\limits_{j=1}^{s}\\beta_{j}(v+w_j) = \\sum\\limits_{j=1}^{s}\\beta_j\\sum\\limits_{i=1}^{r}\\alpha_i (v_i + w_j)$$\n",
    "\n",
    "Очевидно, что послденяя сумма явялется выпуклой комбинацией элементов из  $A+B$\n",
    "\n",
    "Теперь предположим, что предположение индукции выполнено для $i=\\overline{1,n}$. Тогда докажем, что \n",
    "\n",
    "$$conv(\\sum\\limits_{i=1}^{n+1}) = \\sum\\limits_{i=1}^{n+1} conv(S_i)$$\n",
    "\n",
    "Рассмотрим множества $\\sum\\limits_{i=1}^{n} S_i$ и $S_{n+1}$. Для них будет верно\n",
    "\n",
    "$$conv(\\sum\\limits_{i=1}^{n} S_i + S_{n+1}) \\supseteq conv(\\sum\\limits_{i=1}^{n} S_i) + conv(S_{n+1}) \\supseteq \\sum\\limits_{i=1}^{n} conv(S_i) + conv(S_{n+1})$$\n",
    "\n",
    "Отсюда получаем утверждение выше. Оба вхождения доказаны $\\Rightarrow \\sum\\limits_{i = 1}^{k} conv\\left(S_i\\right) = conv\\left(\\sum\\limits_{i = 1}^{k} S_i \\right)$"
   ]
  },
  {
   "cell_type": "markdown",
   "metadata": {},
   "source": [
    "# Задача №3"
   ]
  },
  {
   "cell_type": "markdown",
   "metadata": {},
   "source": [
    "### Докажите, что множество $S \\subseteq R_{n}$ выпукло тогда и только тогда, когда $(\\alpha + \\beta)S = \\alpha S + \\beta S$ для всех неотрицательных $\\alpha$ и $\\beta$"
   ]
  },
  {
   "cell_type": "markdown",
   "metadata": {},
   "source": [
    "###### Решение:\n",
    "\n",
    "Пусть множество $S$ - выпукло, тогда докажем, что $\\forall \\alpha, \\beta \\ge 0 \\Rightarrow (\\alpha + \\beta)S = \\alpha S + \\beta S$\n",
    "\n",
    "Для этого докажем два включения: \n",
    "\n",
    "1) $(\\alpha + \\beta)S \\subseteq \\alpha S + \\beta S$\n",
    "\n",
    "$$\\forall x \\in (\\alpha + \\beta)S ,\\exists x_1 \\in S: $$\n",
    "$$x = (\\alpha + \\beta) x_1 = \\alpha x_1 + \\beta x_1$$\n",
    "$$\\Rightarrow x \\in \\alpha S + \\beta S$$  \n",
    "\n",
    "Отюда и следует утверждение что $(\\alpha + \\beta)S \\subseteq \\alpha S + \\beta S$\n",
    "\n",
    "2) $(\\alpha + \\beta)S \\supseteq \\alpha S + \\beta S$\n",
    "\n",
    "$$\\forall x \\in \\alpha S + \\beta S ,\\exists x_1, x_2 \\in S: $$\n",
    "$$x = \\alpha x_1 + \\beta x_2$$\n",
    "Рассмотрим $x^{*} = \\frac{\\alpha}{\\alpha + \\beta} x_1 + \\frac{\\beta}{\\alpha + \\beta} x_2 \\in S$, так как множество $S$ выпуклое по предположению. Но тогда $(\\alpha + \\beta)S \\ni (\\alpha + \\beta) x^{*} = \\alpha x_1 + \\beta x_2$. Отсюда следует, что $$(\\alpha + \\beta)S \\supseteq \\alpha S + \\beta S$$\n",
    "\n",
    "Из двух включений получаем, что $$\\text{множество } S \\text{ - выпуклое} \\Rightarrow \\forall \\alpha, \\beta \\ge 0 \\Rightarrow (\\alpha + \\beta)S = \\alpha S + \\beta S$$\n",
    "\n",
    "Докажем, что если $\\forall \\alpha, \\beta \\ge 0, (\\alpha + \\beta)S = \\alpha S + \\beta \\Rightarrow S$ - выпуклое\n",
    "\n",
    "$$\\forall \\alpha, \\beta \\ge 0, \\forall x, y \\in S, \\exists z \\in S: $$\n",
    "$$\\alpha x + \\beta y = (\\alpha + \\beta) z \\Rightarrow z = \\frac{\\alpha}{\\alpha + \\beta} x + \\frac{\\beta}{\\alpha + \\beta} y$$  \n",
    "$$z = \\theta \\cdot x + (1 - \\theta) \\cdot y \\text{  where  } \\theta \\in [0, 1]$$\n",
    "\n",
    "Что просто по определению и означает выпуклость множества $S$."
   ]
  },
  {
   "cell_type": "markdown",
   "metadata": {},
   "source": [
    "# Задача №4 "
   ]
  },
  {
   "cell_type": "markdown",
   "metadata": {},
   "source": [
    "\n",
    "Пусть $x \\in \\Re$ - случайная величина с заданным вероятностным распределением $$\\textbf{P}(x=a_{i}) = p_i \\text{, where } i=\\overline{1,n}$$\n",
    "$$a_1 < a_2 <{}...< a_n$$\n",
    "Говорят, что вектор вероятностней исходов $p \\in R^{n}$ принадлежит вероятностному симплексу, т.е.\n",
    "$$\\textbf{P} = \\{p|    \\textbf{1}^{T} p = 1, p \\ge 0 \\} = \\{p| \\sum \\limits_{i=1}^{n} p_i = 1, p \\ge 0 \\}$$\n",
    "\n",
    "Определите, выпукло ли множество таких $p$, которые удовлетворяют условию:\n",
    "\n",
    "* $\\textbf{P}(x>\\alpha) \\le \\beta$\n",
    "* $\\textbf{E}|x^{2017}| \\le \\alpha \\textbf{E}|x|$\n",
    "* $\\textbf{E}|x^{2}| \\ge \\alpha$\n",
    "* $\\textbf{V}x \\ge \\alpha$"
   ]
  },
  {
   "cell_type": "markdown",
   "metadata": {},
   "source": [
    "###### Решение:\n",
    "\n",
    "1) $\\textbf{P}(x>\\alpha) \\le \\beta$\n",
    "\n",
    "Для каждого $\\alpha$ в данном условии найдется $k^{*} \\in [1, n]: \\forall i \\ge k^{*}: a_i > \\alpha$ (если не найдется, то вероятность в условии просто будет ноль).\n",
    "\n",
    "Тогда условиие можно будет переписать \n",
    "$$\\textbf{P}(x>\\alpha) = \\sum \\limits_{i=k_{*}}^{n} p(a_i) \\le \\beta$$\n",
    "\n",
    "Что есть просто линейной неравенство, которое задаст некоторое выпуклое множество (это будет некоторое полупространство в подпространстве $\\Re^{n}$), которое в пересечении с симплексом, который также является выпуклым множеством, даст выпуклое множество. \n",
    "\n",
    "2) $\\textbf{E}|x^{2017}| \\le \\alpha \\textbf{E}|x|$\n",
    "\n",
    "Немного преобразуем данное условие\n",
    "\n",
    "$$\\textbf{E}|x^{2017}| = \\sum \\limits_{i=1}^{n} p_{i} \\cdot a_{i}^{2017} \\le \\alpha \\sum \\limits_{i=1}^{n} p_i a_i$$\n",
    "$$\\sum \\limits_{i=1}^{n} p_{i} a_{i} (a_{i}^{2016} - \\alpha) \\le 0$$\n",
    "\n",
    "Заметим, что фиксированных $\\alpha, a_{i=\\overline{1,n}}$ данное ограничения снова превращается в линейное неравенство, котое задаст некоторое выпуклое множество, которое вместе с симплексом снова даст выпуклое множество $\\Rightarrow$ данное множество $p$ будет выпуклым.\n",
    "\n",
    "3) $\\textbf{E}|x^{2}| \\ge \\alpha$ \n",
    "\n",
    "Снова немного преобразуем данное условие\n",
    "$$\\textbf{E}|x^{2}| = \\sum \\limits_{i=1}^{n} p_i x_i^{2} \\ge \\alpha$$\n",
    "Снова получаем некоторое линейное неравенство, которое задаст выпуклое множество $\\Rightarrow$ множество вероятностей также выпуклое.\n",
    "\n",
    "4) $\\textbf{V}x \\ge \\alpha$\n",
    "\n",
    "Тут все будет немного сложнее и придется повозиться. Сначала просто распишем все по определению: \n",
    "\n",
    "$$\\textbf{V}x = \\textbf{E}\\{(x - \\textbf{E}x)^2\\} = \\textbf{E}x^2 - (\\textbf{E}x)^2 = \\sum \\limits_{i=1}^{n} p_{i} a_{i}^2 - (\\sum \\limits_{i=1}^{n} p_{i} a_{i})^2 \\le \\alpha$$\n",
    "\n",
    "Пошаманим над этим неравенством: растянем/сожмем некоторые оси и придем к другим координатам:\n",
    "\n",
    "$$p_i a_i = q_i$$\n",
    "$$\\sum \\limits_{i=1}^{n} q_{i} a_{i} - (\\sum \\limits_{i=1}^{n} q_{i})^2 \\le \\alpha$$\n",
    "$$x_1 = \\sum \\limits_{i=1}^{n} q_{i}$$\n",
    "$$\\sum \\limits_{i=2}^{n} q_{i} a_{i} + q_1 a_1 - x_1^2 + \\sum \\limits_{i=2}^{n} q_i a_1 - \\sum \\limits_{i=2}^{n} q_i a_1 \\le \\alpha $$\n",
    "$$\\sum \\limits_{i=2}^{n} x_{i} a_{i} + a_1 x_1 - x_1^2 - \\sum \\limits_{i=2}^{n} x_i a_1 \\le \\alpha \\text{, where } x_i = q_i, i=\\overline{2,n}$$\n",
    "$$\\sum \\limits_{i=2}^{n} x_{i} (a_{i} - a_1) + a_1 x_1 - x_1^2 \\le \\alpha$$\n",
    "$$\\sum \\limits_{i=2}^{n} x_{i} (a_{i} - a_1) - (x_1 - a_1/2)^2 + a_1^2/4 \\le \\alpha$$\n",
    "$$\\sum \\limits_{i=2}^{n} x_{i} (a_{i} - a_1) - x_1^2 + a_1^2/4 \\le \\alpha \\text{, where } x_1 \\Rightarrow x_1 - a_1/2$$\n",
    "\n",
    "С таким неравенством будет кратно проще работать. Теперь просто опрделяем выполнено ли условие выпуклости: Возьмем два каких-то вектора вероятностей $\\textbf{p}, \\textbf{q}$\n",
    "\n",
    "$$\\sum \\limits_{i=2}^{n} p_{i} (a_{i} - a_1) - p_1^2 + a_1^2/4 \\le \\alpha$$\n",
    "$$\\sum \\limits_{i=2}^{n} q_{i} (a_{i} - a_1) - q_1^2 + a_1^2/4 \\le \\alpha$$\n",
    "\n",
    "Рассмотрим $$\\textbf{x} = \\theta \\textbf{p} + (1 - \\theta)\\textbf{q}$$ $$\\theta \\in [0, 1]$$\n",
    "\n",
    "$$\\sum \\limits_{i=2}^{n}(\\theta p_i + (1-\\theta)q_{i})(a_i - a_1) - (\\theta p_1 + (1-\\theta) q_i)^2 + a_1^2/4 = $$\n",
    "\n",
    "$$=\\theta \\sum \\limits_{i=2}^{n} p_i (a_i - a_1) + (1-\\theta) \\sum \\limits_{i=2}^{n} q_i (a_i - a_1) - \\theta^2 p_1^2 - 2 \\theta (1-\\theta) p_1 q_1 + (1-\\theta)^2 q_2^2+a_1^2/4 \\ge$$\n",
    "\n",
    "$$\\ge \\alpha \\theta - a_1^2 \\theta/4 + p_1^2 \\theta + \\alpha (1-\\theta) - a_1^2(1-\\theta)/4 + q_1^2(1-\\theta) - \\theta^2 p_1^2 - 2 \\theta (1-\\theta) p_1 q_1 - (1-\\theta)^2 q_1^2 + a_1^2/4 = $$\n",
    "\n",
    "$$ = \\alpha + p_1^2\\theta - p_1^2 \\theta^2 + q_1^2(1-\\theta) - q_1^2 (1-\\theta)^2 -2\\theta (1-\\theta) p_1 q_1 = $$\n",
    "\n",
    "$$=\\alpha + p_1^2 \\theta (1-\\theta) + q_1^2 \\theta (1-\\theta) - 2 \\theta (1-\\theta) p_1 q_1 = \\alpha + \\theta (1-\\theta) (p_1 - q_1)^2 \\ge \\alpha$$\n",
    "\n",
    "Победа. Неравенство выше означает, что решения первоначального неравенства образуют выпуклое множество (вообще, можно было пробовать привести все это дело в канонический вид и рассматривать данное множество как некоторый многомерный аналог параболоида). \n",
    "\n",
    "Пересечение выпуклых - выпукло $\\Rightarrow \\textbf{V}x \\ge \\alpha$ в пересечении с симплексом дает выпуклое множество. "
   ]
  }
 ],
 "metadata": {
  "kernelspec": {
   "display_name": "Python 2",
   "language": "python",
   "name": "python2"
  },
  "language_info": {
   "codemirror_mode": {
    "name": "ipython",
    "version": 2
   },
   "file_extension": ".py",
   "mimetype": "text/x-python",
   "name": "python",
   "nbconvert_exporter": "python",
   "pygments_lexer": "ipython2",
   "version": "2.7.13"
  }
 },
 "nbformat": 4,
 "nbformat_minor": 1
}
