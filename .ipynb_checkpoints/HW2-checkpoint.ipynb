{
 "cells": [
  {
   "cell_type": "markdown",
   "metadata": {},
   "source": [
    "# Методы оптимизаций\n",
    "## ДЗ 1\n",
    "### Соколов Игорь\n",
    "#### Группа 573"
   ]
  },
  {
   "cell_type": "markdown",
   "metadata": {},
   "source": [
    "## 1"
   ]
  },
  {
   "cell_type": "markdown",
   "metadata": {},
   "source": [
    "Покажите, что множество афинно тогда и только тогда, когда его пересечение с любой прямой афинно."
   ]
  },
  {
   "cell_type": "markdown",
   "metadata": {},
   "source": [
    "#### Решение:"
   ]
  },
  {
   "cell_type": "markdown",
   "metadata": {},
   "source": [
    "$X - aff \\Leftrightarrow \\forall a \\rightarrow a\\cap X - aff$\n",
    "\n",
    "$\\Longrightarrow$\n",
    "\n",
    "Пусть $X - aff$.\n",
    "\n",
    "Любая прямая  - афинное множество по определению.\n",
    "\n",
    "Если $a\\cap X = \\varnothing$, тогда $a\\cap X$ - $aff$ по опр.\n",
    "\n",
    "Если $a\\cap X \\neq \\varnothing$, тогда возьмем $x_1, x_2 \\in a\\cap X $\n",
    "\n",
    "$\\Rightarrow $\n",
    "$\\begin{cases}\n",
    "x_1, x_2 \\in a\\\\\n",
    "x_1, x_2 \\in X\\end{cases}\n",
    "$\n",
    "\n",
    "Так как $a - aff, X - aff$, то $\\forall \\theta \\in \\mathbb{R} \\rightarrow $\n",
    "$\\begin{cases} \n",
    "x_{\\theta} = \\theta x_1+(1-\\theta)x_2 \\in a\\\\\n",
    "x_{\\theta} = \\theta x_1+(1-\\theta)x_2 \\in X\n",
    "\\end{cases}\n",
    "$ \n",
    "\n",
    "$\\Rightarrow x_{\\theta} \\in a\\cap X$\n",
    "\n",
    "$\\Rightarrow a\\cap X - aff$\n",
    "\n",
    "$\\Longleftarrow$\n",
    "\n",
    "Пусть теперь $\\forall a \\rightarrow a\\cap X - aff$. \n",
    "\n",
    "Для произвольных $x_1,x_2 \\in X \\rightarrow$ пересечение $X$ и прямой $a$, содержащей $x_1,x_2$ афинно, то есть содержит прямую, проходящую через $x_1$ и $x_2 \\Rightarrow a \\in a\\cap X$, так как через две точки можно провести толлко одну прямую.\n",
    "\n",
    "Так как $a \\in a\\cap X \\Rightarrow a \\in X$\n",
    "\n",
    "То есть $\\forall x_1,x_2 \\in X \\theta \\in \\mathbb{R}  \\rightarrow \\theta x_1+(1-\\theta)x_2 \\in X$\n",
    "\n",
    "$\\Rightarrow X - aff$"
   ]
  },
  {
   "cell_type": "markdown",
   "metadata": {},
   "source": [
    "## 2\n",
    "Пусть $S_1, \\ldots, S_k$ - произвольные непустые множества в $\\mathbb{R}^n$. Докажите, что:\n",
    "\n",
    "1. $ \\mathbf{cone} \\left( \\bigcup\\limits_{i=1}^k S_i\\right) = \\sum\\limits_{i=1}^k \\mathbf{cone} \\left( S_i\\right) $\n",
    "    \n",
    "2. $ \\mathbf{conv} \\left( \\sum\\limits_{i=1}^k S_i\\right) = \\sum\\limits_{i=1}^k \\mathbf{conv} \\left( S_i\\right) $"
   ]
  },
  {
   "cell_type": "markdown",
   "metadata": {},
   "source": [
    "#### Доказательство 2:\n",
    "\n",
    "По индукции:\n",
    "\n",
    "База: $k = 1 \\Rightarrow \\mathbf{conv} \\left( \\sum\\limits_{i=1}^1 S_i\\right) = \\sum\\limits_{i=1}^1 \\mathbf{conv}\\left( S_i\\right) = \\mathbf{conv} \\left( S_1\\right)$- верно.\n",
    "\n",
    "Пусть верно для $k = n \\Rightarrow \\mathbf{conv} \\left( \\sum\\limits_{i=1}^n S_i\\right) = \\sum\\limits_{i=1}^n \\mathbf{conv} \\left( S_i\\right) $ - верно.\n",
    "\n",
    "Докажем для $k = n+1$, то есть докажем равенство: \n",
    "\n",
    "$$\\mathbf{conv} \\left( \\sum\\limits_{i=1}^{n+1} S_i\\right) = \\sum\\limits_{i=1}^{n+1} \\mathbf{conv} \\left( S_i\\right)$$\n",
    "\n",
    "$$\\mathbf{conv} \\left( \\sum\\limits_{i=1}^{n} S_i + S_{n+1}\\right) = \\mathbf{conv} \\left(\\sum\\limits_{i=1}^{n} S_i\\right) + \\mathbf{conv}\\left( S_{n+1}\\right)$$\n",
    "\n",
    "Переобозначим:\n",
    "\n",
    "$A = \\sum\\limits_{i=1}^{n} S_i$\n",
    "\n",
    "$B = S_{n+1}$\n",
    "\n",
    "Тогда $$\\mathbf{conv}\\left( A +B\\right) = \\mathbf{conv}\\left( A \\right)+ \\mathbf{conv}\\left( B\\right)$$\n",
    "\n",
    "$\\Longrightarrow $\n",
    "\n",
    "$$ A \\subset \\mathbf{conv}\\left( A \\right)\\\\\n",
    "\\\\\n",
    "B \\subset \\mathbf{conv}\\left( B \\right)\\\\\n",
    "\\\\\n",
    "A + B \\subset \\mathbf{conv}\\left( A\\right) + \\mathbf{conv}\\left( B\\right)$$\n",
    "\n",
    "Так как $\\mathbf{conv}\\left( A\\right) + \\mathbf{conv}\\left( B\\right) - convex$ (так как сумма выпуклых множеств).\n",
    "\n",
    "То $$\\mathbf{conv}\\left( A + B\\right)\\subset\\mathbf{conv}\\left( A\\right) + \\mathbf{conv}\\left( B\\right)$$ ( так как $\\mathbf{conv}\\left( A + B\\right)$ минимальное выпуклое множество, такое что $A+B \\subseteq \\mathbf{conv}\\left( A + B\\right)$)\n",
    "\n",
    "$\\Longleftarrow $\n",
    "\n",
    "Пусть $\\quad z \\in \\mathbf{conv}\\left( A\\right) + \\mathbf{conv}\\left( B\\right),\\quad$ то есть $z = x +y,\\quad$ где $x \\in \\mathbf{conv}\\left(A\\right), y \\in \\mathbf{conv}\\left(B\\right)$ \n",
    "\n",
    "Тогда $$x = \\sum\\limits_{i=1}^{l} \\alpha_ix_i , y = \\sum\\limits_{j=1}^{p} \\beta_jy_j,\\quad \\alpha_i \\geq 0, \\beta_j \\geq 0,\\quad \\sum\\limits_{i=1}^{l} \\alpha_i = \\sum\\limits_{j=1}^{p} \\beta_j = 1$$\n",
    "\n",
    "$$x + y \\in \\mathbf{conv}\\left( A\\right) + \\mathbf{conv}\\left( B\\right) $$\n",
    "\n",
    "Для начала, заметим, что $x + y_j \\in \\mathbf{conv}(A+B)$, так как  $x + y_j = \\sum\\limits_{i=1}^{l} \\alpha_i(x_i+y_j)$\n",
    "\n",
    "Затем можно записать $x+y$ как выпуклую комбинацию точек $x+y_j$, а именно:\n",
    "\n",
    "$$z = x + y =\\sum\\limits_{j=1}^{p} \\beta_j(x+y_j) = \\sum\\limits_{j=1}^{p}\\sum\\limits_{i=1}^{l} \\alpha_i\\beta_j(x_i+y_j)$$\n",
    "\n",
    "Где $x_i + y_i \\in A+ B, \\alpha_i\\beta_j\\geq 0,\\sum\\limits_{j=1}^{p}\\sum\\limits_{i=1}^{l} \\alpha_i\\beta_j =\\sum\\limits_{i=1}^{l}\\alpha_i \\sum\\limits_{j=1}^{p}\\beta_j =1$\n",
    "\n",
    "Таким образом $z$ является выпуклой комбинацией точек множества $A+B$\n",
    "\n",
    "$\\Rightarrow z \\in \\mathbf{conv}\\left( A + B\\right)$\n",
    "\n",
    "Так как $z$ было выбрано произвольно, то верно $  \\mathbf{conv}\\left( A\\right) + \\mathbf{conv}\\left( B\\right) \\subset \\mathbf{conv}\\left( A + B\\right)$\n",
    "\n",
    "Из включения в обе стороны следует равенство:\n",
    "$$  \\mathbf{conv}\\left( A + B\\right) = \\mathbf{conv}\\left( A\\right) + \\mathbf{conv}\\left( B\\right) $$\n"
   ]
  },
  {
   "cell_type": "markdown",
   "metadata": {},
   "source": [
    "#### Доказательство 1:\n",
    "\n",
    "Идейно повторяет док-во 2, за исключением некоторых деталей.\n",
    "\n",
    "По индукции:\n",
    "\n",
    "База: $k = 1 \\Rightarrow \\mathbf{cone} \\left( \\bigcup\\limits_{i=1}^1 S_i\\right) = \\sum\\limits_{i=1}^1 \\mathbf{cone}\\left( S_i\\right) = \\mathbf{cone} \\left( S_1\\right)$- верно.\n",
    "\n",
    "Пусть верно для $k = n \\Rightarrow \\mathbf{cone} \\left( \\bigcup\\limits_{i=1}^n S_i\\right) = \\sum\\limits_{i=1}^n \\mathbf{cone} \\left( S_i\\right) $ - верно.\n",
    "\n",
    "Докажем для $k = n+1$, то есть докажем равенство: \n",
    "\n",
    "$$\\mathbf{cone} \\left( \\bigcup\\limits_{i=1}^{n+1} S_i\\right) = \\sum\\limits_{i=1}^{n+1} \\mathbf{cone} \\left( S_i\\right)$$\n",
    "\n",
    "$$\\mathbf{cone} \\left( \\bigcup\\limits_{i=1}^{n} S_i \\cup S_{n+1}\\right) = \\mathbf{cone} \\left(\\sum\\limits_{i=1}^{n} S_i\\right) + \\mathbf{cone}\\left( S_{n+1}\\right)$$\n",
    "\n",
    "Переобозначим:\n",
    "\n",
    "$A = \\bigcup\\limits_{i=1}^{n} S_i$\n",
    "\n",
    "$B = S_{n+1}$\n",
    "\n",
    "Тогда $$\\mathbf{cone}\\left( A \\cup B\\right) = \\mathbf{cone}\\left( A \\right)+ \\mathbf{cone}\\left( B\\right)$$\n",
    "\n",
    "$\\Longrightarrow $\n",
    "\n",
    "$$A \\subset \\mathbf{cone}\\left( A\\right)$$\n",
    "\n",
    "$$B \\subset \\mathbf{cone}\\left( B\\right)$$\n",
    "\n",
    "По опр:\n",
    "\n",
    "$\\mathbf{cone}(A) = \\left\\{ \\sum\\limits_{i=1}^l\\theta_i x_i \\mid x_i \\in A, \\theta_i \\ge 0\\right\\}$\n",
    "\n",
    "$\\mathbf{cone}(B) = \\left\\{ \\sum\\limits_{j=1}^p\\lambda_i y_i \\mid y_j \\in B, \\lambda_j \\ge 0\\right\\}$\n",
    "\n",
    "Тогда \n",
    "\n",
    "$\\mathbf{cone}(A \\cup B) = \\left\\{ \\sum\\limits_{i=1}^l+p\\theta_i z_i   \\mid z_i \\in A\\cup B, \\theta_i \\ge 0\\right\\}$\n",
    "\n",
    "Так как, $A\\cup B$ состоит из $x$, $y$(как определено выше)\n",
    "\n",
    "$\\sum\\limits_{i=1}^l\\theta_i x_i + \\sum\\limits_{i=l+1}^{l+p}\\theta_i y_i$\n",
    "\n",
    "\n",
    "$\\mathbf{cone}(A \\cup B) = \\left\\{ \\sum\\limits_{i=1}^l\\theta_i x_i + \\sum\\limits_{i=l+1}^{l+p}\\theta_i y_i  \\mid x_j, y_j \\in A\\cup B, \\theta_i, \\lambda_j \\ge 0\\right\\}$\n"
   ]
  },
  {
   "cell_type": "markdown",
   "metadata": {},
   "source": [
    "\n",
    "## 3\n",
    "\n",
    "Докажите, что множество $S \\subseteq \\mathbb{R}^n$ выпукло тогда и только тогда, когда $(\\alpha + \\beta)S = \\alpha S + \\beta S$ для всех неотрицательных $\\alpha$ и $\\beta$"
   ]
  },
  {
   "cell_type": "markdown",
   "metadata": {},
   "source": [
    "## 4\n",
    "\n",
    "Пусть $x \\in \\mathbb{R}$ - случайная величина с заданным вероятностным распределением $\\mathbb{P}(x = a_i) = p_i$, где $i = 1, \\ldots, n$, а $a_1 < \\ldots < a_n$. Говорят, что вектор вероятностей исходов $p \\in \\mathbb{R}^n$ принадлежит вероятностному симплексу, т.е. $P = \\left\\{ p \\mid \\mathbf{1}^Tp = 1, p \\succeq 0\\right\\} = \\left\\{ p \\mid p_1 + \\ldots + p_n = 1, p_i \\ge 0 \\right\\}$. \n",
    "    \n",
    "Определите, выпукло ли множество таких $p$, которые удовлетворяют условию:\n",
    "    \n",
    "1. $\\mathbb{P}(x > \\alpha) \\le \\beta$\n",
    "2. $\\mathbb{E} |x^{2017}| \\le \\alpha \\mathbb{E}|x|$\n",
    "3. $\\mathbb{E} |x^{2}| \\ge \\alpha $\n",
    "4. $\\mathbb{V}x \\ge \\alpha$"
   ]
  },
  {
   "cell_type": "markdown",
   "metadata": {},
   "source": [
    "#### Решение:\n",
    "\n",
    "1) Заметим, что данное неравенство эквивалентно линейному неравенству:\n",
    "\n",
    "$$\\sum_{i: a_i>\\alpha}p_i\\leq\\beta$$\n",
    "\n",
    "Которое задает полупространство $A$ - $convex$.\n",
    "\n",
    "Вероятностный симплекс $P$ - $convex$\n",
    "\n",
    "$\\Rightarrow A \\cap P - convex$\n",
    "\n",
    "2) $$\\sum_{i=1}^{n}p_i\\left(\\left|a_i\\right|^{2017}-\\alpha\\left|a_i\\right|\\right)\\leq 0$$\n",
    "\n",
    "3) $$\\sum_{i=1}^{n}p_ia_i^2\\geq\\alpha$$\n",
    "\n",
    "4) $\\mathbb{V}x = \\mathbb{E}\\left\\{ (x - \\mathbb{E}x)^2\\right\\} = \\mathbb{E}x^2 - \\left(\\mathbb{E}x\\right)^2$ = $\\sum\\limits_{i=1}^n p_i a_i^2 - \\left(\\sum\\limits_{i=1}^n p_i a_i\\right)^2 \\ge \\alpha$\n"
   ]
  },
  {
   "cell_type": "markdown",
   "metadata": {},
   "source": []
  }
 ],
 "metadata": {
  "kernelspec": {
   "display_name": "Python 2",
   "language": "python",
   "name": "python2"
  },
  "language_info": {
   "codemirror_mode": {
    "name": "ipython",
    "version": 2
   },
   "file_extension": ".py",
   "mimetype": "text/x-python",
   "name": "python",
   "nbconvert_exporter": "python",
   "pygments_lexer": "ipython2",
   "version": "2.7.13"
  }
 },
 "nbformat": 4,
 "nbformat_minor": 2
}
