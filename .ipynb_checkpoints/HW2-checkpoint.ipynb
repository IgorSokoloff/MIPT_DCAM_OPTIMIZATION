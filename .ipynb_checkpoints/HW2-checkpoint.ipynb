{
 "cells": [
  {
   "cell_type": "markdown",
   "metadata": {},
   "source": [
    "# Методы оптимизаций\n",
    "## ДЗ 1\n",
    "### Соколов Игорь\n",
    "#### Группа 573"
   ]
  },
  {
   "cell_type": "markdown",
   "metadata": {},
   "source": [
    "## 1"
   ]
  },
  {
   "cell_type": "markdown",
   "metadata": {},
   "source": [
    "Покажите, что множество афинно тогда и только тогда, когда его пересечение с любой прямой афинно."
   ]
  },
  {
   "cell_type": "markdown",
   "metadata": {},
   "source": [
    "$X - aff \\Leftrightarrow \\forall a \\rightarrow a\\cap X - aff$\n",
    "\n",
    "$\\Longrightarrow$\n",
    "\n",
    "Любая прямая  - афинное множество по определению.\n",
    "\n",
    "Если $a\\cap X = \\varnothing$, тогда $a\\cap X$ - $aff$ по опр.\n",
    "\n",
    "Если $a\\cap X \\neq \\varnothing$, тогда возьмем $x_1, x_2 \\in a\\cap X $\n",
    "\n",
    "$\\Rightarrow $\n",
    "$\\begin{cases}\n",
    "x_1, x_2 \\in a\\\\\n",
    "x_1, x_2 \\in X\\end{cases}\n",
    "$\n",
    "\n",
    "Так как $a - aff, X - aff$, то $\\forall \\theta \\in \\mathbb{R} \\rightarrow $\n",
    "$\\begin{cases} \n",
    "x_{\\theta} = \\theta x_1+(1-\\theta)x_2 \\in a\\\\\n",
    "x_{\\theta} = \\theta x_1+(1-\\theta)x_2 \\in X\n",
    "\\end{cases}\n",
    "$ \n",
    "\n",
    "$\\Rightarrow x_{\\theta} \\in a\\cap X$\n",
    "\n",
    "$\\Rightarrow a\\cap X - aff$\n",
    "\n",
    "$\\Longleftarrow$"
   ]
  },
  {
   "cell_type": "markdown",
   "metadata": {},
   "source": [
    "## 2"
   ]
  },
  {
   "cell_type": "markdown",
   "metadata": {},
   "source": [
    "Пусть $S_1, \\ldots, S_k$ - произвольные непустые множества в $\\mathbb{R}^n$. Докажите, что:\n",
    "\n",
    "$ \\mathbf{cone} \\left( \\bigcup\\limits_{i=1}^k S_i\\right) = \\sum\\limits_{i=1}^k \\mathbf{cone} \\left( S_i\\right) $\n",
    "    \n",
    "$ \\mathbf{conv} \\left( \\sum\\limits_{i=1}^k S_i\\right) = \\sum\\limits_{i=1}^k \\mathbf{conv} \\left( S_i\\right) $"
   ]
  },
  {
   "cell_type": "markdown",
   "metadata": {},
   "source": [
    "\n",
    "\n",
    "\n",
    "    \n",
    "0. Докажите, что множество $S \\subseteq \\mathbb{R}^n$ выпукло тогда и только тогда, когда $(\\alpha + \\beta)S = \\alpha S + \\beta S$ для всех неотрицательных $\\alpha$ и $\\beta$\n",
    "\n",
    "0. Пусть $x \\in \\mathbb{R}$ - случайная величина с заданным вероятностным распределением $\\mathbb{P}(x = a_i) = p_i$, где $i = 1, \\ldots, n$, а $a_1 < \\ldots < a_n$. Говорят, что вектор вероятностей исходов $p \\in \\mathbb{R}^n$ принадлежит вероятностному симплексу, т.е. $P = \\left\\{ p \\mid \\mathbf{1}^Tp = 1, p \\succeq 0\\right\\} = \\left\\{ p \\mid p_1 + \\ldots + p_n = 1, p_i \\ge 0 \\right\\}$. \n",
    "    \n",
    "    Определите, выпукло ли множество таких $p$, которые удовлетворяют условию:\n",
    "    \n",
    "    * $\\mathbb{P}(x > \\alpha) \\le \\beta$\n",
    "    * $\\mathbb{E} |x^{2017}| \\le \\alpha \\mathbb{E}|x|$\n",
    "    * $\\mathbb{E} |x^{2}| \\ge \\alpha $\n",
    "    * $\\mathbb{V}x \\ge \\alpha$"
   ]
  }
 ],
 "metadata": {
  "kernelspec": {
   "display_name": "Python 2",
   "language": "python",
   "name": "python2"
  },
  "language_info": {
   "codemirror_mode": {
    "name": "ipython",
    "version": 2
   },
   "file_extension": ".py",
   "mimetype": "text/x-python",
   "name": "python",
   "nbconvert_exporter": "python",
   "pygments_lexer": "ipython2",
   "version": "2.7.13"
  }
 },
 "nbformat": 4,
 "nbformat_minor": 2
}
